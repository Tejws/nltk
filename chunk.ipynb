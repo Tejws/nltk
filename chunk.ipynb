{
  "nbformat": 4,
  "nbformat_minor": 0,
  "metadata": {
    "colab": {
      "provenance": []
    },
    "kernelspec": {
      "name": "python3",
      "display_name": "Python 3"
    },
    "language_info": {
      "name": "python"
    }
  },
  "cells": [
    {
      "cell_type": "code",
      "source": [
        "import nltk\n",
        "# Download the missing resources\n",
        "nltk.download('maxent_ne_chunker')\n",
        "nltk.download('words')\n",
        "\n",
        "# Now you can use ne_chunk()\n",
        "from nltk import pos_tag, word_tokenize\n",
        "from nltk.chunk import ne_chunk\n",
        "\n",
        "# Sentence\n",
        "sentence = \"My name is Tejas\"\n",
        "\n",
        "# Tokenize and POS tag\n",
        "tokens = word_tokenize(sentence)\n",
        "tags = pos_tag(tokens)\n",
        "\n",
        "# Apply Named Entity Recognition (NER) chunking\n",
        "chunked = ne_chunk(tags)\n",
        "\n",
        "# Display the chunked output\n",
        "print(chunked)\n"
      ],
      "metadata": {
        "colab": {
          "base_uri": "https://localhost:8080/"
        },
        "id": "zXjd43b2tvaK",
        "outputId": "6a3bbc2b-a26f-4a9c-a32c-0b8f3082aeb5"
      },
      "execution_count": 30,
      "outputs": [
        {
          "output_type": "stream",
          "name": "stderr",
          "text": [
            "[nltk_data] Downloading package maxent_ne_chunker to\n",
            "[nltk_data]     /root/nltk_data...\n",
            "[nltk_data]   Package maxent_ne_chunker is already up-to-date!\n",
            "[nltk_data] Downloading package words to /root/nltk_data...\n",
            "[nltk_data]   Package words is already up-to-date!\n"
          ]
        },
        {
          "output_type": "stream",
          "name": "stdout",
          "text": [
            "(S My/PRP$ name/NN is/VBZ (PERSON Tejas/NNP))\n"
          ]
        }
      ]
    }
  ]
}