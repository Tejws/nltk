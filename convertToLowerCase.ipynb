{
  "nbformat": 4,
  "nbformat_minor": 0,
  "metadata": {
    "colab": {
      "provenance": []
    },
    "kernelspec": {
      "name": "python3",
      "display_name": "Python 3"
    },
    "language_info": {
      "name": "python"
    }
  },
  "cells": [
    {
      "cell_type": "code",
      "execution_count": 2,
      "metadata": {
        "colab": {
          "base_uri": "https://localhost:8080/"
        },
        "id": "100TA8qBCk8t",
        "outputId": "10e15ee8-81b0-4227-e948-9fe624f7bb2e"
      },
      "outputs": [
        {
          "output_type": "stream",
          "name": "stderr",
          "text": [
            "[nltk_data] Downloading package punkt to /root/nltk_data...\n",
            "[nltk_data]   Package punkt is already up-to-date!\n",
            "[nltk_data] Downloading package punkt_tab to /root/nltk_data...\n"
          ]
        },
        {
          "output_type": "stream",
          "name": "stdout",
          "text": [
            "Original Tokens: ['This', 'is', 'an', 'Example', 'Sentence', 'with', 'Mixed', 'CASE', '.']\n",
            "Lowercase Tokens: ['this', 'is', 'an', 'example', 'sentence', 'with', 'mixed', 'case', '.']\n"
          ]
        },
        {
          "output_type": "stream",
          "name": "stderr",
          "text": [
            "[nltk_data]   Unzipping tokenizers/punkt_tab.zip.\n"
          ]
        }
      ],
      "source": [
        "import nltk\n",
        "from nltk.tokenize import word_tokenize\n",
        "\n",
        "# Download NLTK tokenizer data (including punkt_tab)\n",
        "nltk.download('punkt')\n",
        "nltk.download('punkt_tab') # Download the punkt_tab package\n",
        "\n",
        "# Example text\n",
        "text = \"This is an Example Sentence with Mixed CASE.\"\n",
        "\n",
        "# Tokenize the text\n",
        "tokens = word_tokenize(text)\n",
        "\n",
        "# Convert tokens to lowercase\n",
        "lowercase_tokens = [word.lower() for word in tokens]\n",
        "\n",
        "print(\"Original Tokens:\", tokens)\n",
        "print(\"Lowercase Tokens:\", lowercase_tokens)"
      ]
    }
  ]
}