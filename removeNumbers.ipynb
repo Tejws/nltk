{
  "nbformat": 4,
  "nbformat_minor": 0,
  "metadata": {
    "colab": {
      "provenance": []
    },
    "kernelspec": {
      "name": "python3",
      "display_name": "Python 3"
    },
    "language_info": {
      "name": "python"
    }
  },
  "cells": [
    {
      "cell_type": "code",
      "execution_count": 1,
      "metadata": {
        "colab": {
          "base_uri": "https://localhost:8080/"
        },
        "id": "7HFvwFCFBzz1",
        "outputId": "dcc03f84-c29c-40d8-a76a-ef0c30e3ee24"
      },
      "outputs": [
        {
          "output_type": "stream",
          "name": "stdout",
          "text": [
            "Requirement already satisfied: nltk in /usr/local/lib/python3.10/dist-packages (3.9.1)\n",
            "Requirement already satisfied: click in /usr/local/lib/python3.10/dist-packages (from nltk) (8.1.7)\n",
            "Requirement already satisfied: joblib in /usr/local/lib/python3.10/dist-packages (from nltk) (1.4.2)\n",
            "Requirement already satisfied: regex>=2021.8.3 in /usr/local/lib/python3.10/dist-packages (from nltk) (2024.9.11)\n",
            "Requirement already satisfied: tqdm in /usr/local/lib/python3.10/dist-packages (from nltk) (4.66.6)\n"
          ]
        }
      ],
      "source": [
        "pip install nltk\n"
      ]
    },
    {
      "cell_type": "code",
      "source": [
        "import nltk\n",
        "import re\n",
        "\n",
        "# Example text\n",
        "text = \"This is an example sentence with numbers 123 and 4567.\"\n",
        "\n",
        "# Use regular expressions to remove numbers\n",
        "cleaned_text = re.sub(r'\\d+', '', text)\n",
        "\n",
        "print(f\"Original Text: {text}\")\n",
        "print(f\"Text without numbers: {cleaned_text}\")\n"
      ],
      "metadata": {
        "colab": {
          "base_uri": "https://localhost:8080/"
        },
        "id": "MRK7vPvtB5-g",
        "outputId": "06418d9a-ec52-4f14-f7f1-97df53e5b20b"
      },
      "execution_count": 2,
      "outputs": [
        {
          "output_type": "stream",
          "name": "stdout",
          "text": [
            "Original Text: This is an example sentence with numbers 123 and 4567.\n",
            "Text without numbers: This is an example sentence with numbers  and .\n"
          ]
        }
      ]
    }
  ]
}