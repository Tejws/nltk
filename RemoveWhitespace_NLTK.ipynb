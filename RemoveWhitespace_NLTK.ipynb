{
  "nbformat": 4,
  "nbformat_minor": 0,
  "metadata": {
    "colab": {
      "provenance": []
    },
    "kernelspec": {
      "name": "python3",
      "display_name": "Python 3"
    },
    "language_info": {
      "name": "python"
    }
  },
  "cells": [
    {
      "cell_type": "code",
      "execution_count": 2,
      "metadata": {
        "colab": {
          "base_uri": "https://localhost:8080/"
        },
        "id": "SWRIqa1BU0zF",
        "outputId": "dc664427-88fd-4512-d0d0-e368c0e8a98b"
      },
      "outputs": [
        {
          "output_type": "stream",
          "name": "stderr",
          "text": [
            "[nltk_data] Downloading package punkt to /root/nltk_data...\n",
            "[nltk_data]   Package punkt is already up-to-date!\n",
            "[nltk_data] Downloading package punkt_tab to /root/nltk_data...\n",
            "[nltk_data]   Unzipping tokenizers/punkt_tab.zip.\n"
          ]
        },
        {
          "output_type": "stream",
          "name": "stdout",
          "text": [
            "Original Text: '  This    is an   example     text  with  extra   spaces.   '\n",
            "Cleaned Text: 'This is an example text with extra spaces .'\n"
          ]
        }
      ],
      "source": [
        "from nltk.tokenize import word_tokenize\n",
        "import nltk\n",
        "\n",
        "# Download punkt and punkt_tab resource if not already downloaded\n",
        "nltk.download('punkt')\n",
        "nltk.download('punkt_tab')  # Download punkt_tab for word_tokenize\n",
        "\n",
        "# Sample text with unnecessary whitespace\n",
        "text = \"  This    is an   example     text  with  extra   spaces.   \"\n",
        "\n",
        "# Tokenize the text\n",
        "tokens = word_tokenize(text)\n",
        "\n",
        "# Join tokens with a single space to remove extra whitespace\n",
        "cleaned_text = ' '.join(tokens)\n",
        "\n",
        "print(\"Original Text:\", repr(text))\n",
        "print(\"Cleaned Text:\", repr(cleaned_text))\n"
      ]
    }
  ]
}