{
  "nbformat": 4,
  "nbformat_minor": 0,
  "metadata": {
    "colab": {
      "provenance": []
    },
    "kernelspec": {
      "name": "python3",
      "display_name": "Python 3"
    },
    "language_info": {
      "name": "python"
    }
  },
  "cells": [
    {
      "cell_type": "code",
      "execution_count": 8,
      "metadata": {
        "colab": {
          "base_uri": "https://localhost:8080/"
        },
        "id": "xhVLbnSEhO6N",
        "outputId": "791b7556-5111-4258-bbb3-52c454bbfa2f"
      },
      "outputs": [
        {
          "output_type": "stream",
          "name": "stderr",
          "text": [
            "[nltk_data] Downloading package punkt_tab to /root/nltk_data...\n",
            "[nltk_data]   Unzipping tokenizers/punkt_tab.zip.\n"
          ]
        },
        {
          "output_type": "execute_result",
          "data": {
            "text/plain": [
              "True"
            ]
          },
          "metadata": {},
          "execution_count": 8
        }
      ],
      "source": [
        "import nltk\n",
        "\n",
        "nltk.download('punkt_tab')"
      ]
    },
    {
      "cell_type": "code",
      "source": [
        "import nltk\n",
        "from nltk.corpus import wordnet\n",
        "from nltk.stem import WordNetLemmatizer\n",
        "from nltk import pos_tag, word_tokenize\n",
        "\n",
        "# Initialize the lemmatizer\n",
        "lemmatizer = WordNetLemmatizer()\n",
        "\n",
        "# Function to map POS tag to WordNet tag\n",
        "def get_wordnet_pos(tag):\n",
        "    if tag.startswith('V'): return wordnet.VERB\n",
        "    if tag.startswith('N'): return wordnet.NOUN\n",
        "    if tag.startswith('R'): return wordnet.ADV\n",
        "    return wordnet.ADJ\n",
        "\n",
        "# Example text\n",
        "text = \"The quick brown foxes are running and jumps over the lazy dogs better\"\n",
        "\n",
        "# Tokenize and POS tag the text\n",
        "tokens = word_tokenize(text)\n",
        "tags = pos_tag(tokens)\n",
        "\n",
        "# Lemmatize using the correct POS tag\n",
        "lemmatized = [lemmatizer.lemmatize(word, pos=get_wordnet_pos(tag)) for word, tag in tags]\n",
        "\n",
        "print(\"Lemmatized Text:\", ' '.join(lemmatized))\n"
      ],
      "metadata": {
        "colab": {
          "base_uri": "https://localhost:8080/"
        },
        "id": "K-2PKC0Ki1CR",
        "outputId": "d33be8be-cb2a-4243-cb54-71274b59b83d"
      },
      "execution_count": 12,
      "outputs": [
        {
          "output_type": "stream",
          "name": "stdout",
          "text": [
            "Lemmatized Text: The quick brown fox be run and jump over the lazy dog well\n"
          ]
        }
      ]
    }
  ]
}