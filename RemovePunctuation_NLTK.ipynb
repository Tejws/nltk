{
  "nbformat": 4,
  "nbformat_minor": 0,
  "metadata": {
    "colab": {
      "provenance": []
    },
    "kernelspec": {
      "name": "python3",
      "display_name": "Python 3"
    },
    "language_info": {
      "name": "python"
    }
  },
  "cells": [
    {
      "cell_type": "code",
      "execution_count": 1,
      "metadata": {
        "colab": {
          "base_uri": "https://localhost:8080/"
        },
        "id": "rrFEtB4_N0fS",
        "outputId": "1c768530-cb47-4742-95c3-82727ade26c4"
      },
      "outputs": [
        {
          "output_type": "stream",
          "name": "stdout",
          "text": [
            "Requirement already satisfied: nltk in /usr/local/lib/python3.10/dist-packages (3.9.1)\n",
            "Requirement already satisfied: click in /usr/local/lib/python3.10/dist-packages (from nltk) (8.1.7)\n",
            "Requirement already satisfied: joblib in /usr/local/lib/python3.10/dist-packages (from nltk) (1.4.2)\n",
            "Requirement already satisfied: regex>=2021.8.3 in /usr/local/lib/python3.10/dist-packages (from nltk) (2024.9.11)\n",
            "Requirement already satisfied: tqdm in /usr/local/lib/python3.10/dist-packages (from nltk) (4.66.6)\n"
          ]
        }
      ],
      "source": [
        "pip install nltk\n"
      ]
    },
    {
      "cell_type": "code",
      "source": [
        "import nltk\n",
        "from nltk.tokenize import word_tokenize\n",
        "import string\n",
        "\n",
        "# Ensure nltk punkt_tab tokenizer is downloaded\n",
        "nltk.download('punkt_tab', download_dir='/root/nltk_data') # Download 'punkt_tab' to the root of your nltk_data directory.\n",
        "\n",
        "# Sample text\n",
        "text = \"Hello, world! This is an example sentence with punctuation.\"\n",
        "\n",
        "# Tokenize text into words\n",
        "tokens = word_tokenize(text)\n",
        "\n",
        "# Remove punctuation tokens\n",
        "tokens_without_punctuation = [word for word in tokens if word not in string.punctuation]\n",
        "\n",
        "# Join back into a string, if needed\n",
        "cleaned_text = ' '.join(tokens_without_punctuation)\n",
        "\n",
        "print(\"Original Text:\", text)\n",
        "print(\"Cleaned Text:\", cleaned_text)\n"
      ],
      "metadata": {
        "colab": {
          "base_uri": "https://localhost:8080/"
        },
        "id": "Yo_9JH6VN5V-",
        "outputId": "ca168beb-feab-49c9-b596-d16330c5f712"
      },
      "execution_count": 2,
      "outputs": [
        {
          "output_type": "stream",
          "name": "stderr",
          "text": [
            "[nltk_data] Downloading package punkt_tab to /root/nltk_data...\n",
            "[nltk_data]   Unzipping tokenizers/punkt_tab.zip.\n"
          ]
        },
        {
          "output_type": "stream",
          "name": "stdout",
          "text": [
            "Original Text: Hello, world! This is an example sentence with punctuation.\n",
            "Cleaned Text: Hello world This is an example sentence with punctuation\n"
          ]
        }
      ]
    }
  ]
}